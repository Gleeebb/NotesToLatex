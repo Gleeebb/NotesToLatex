{
 "cells": [
  {
   "cell_type": "code",
   "execution_count": 1,
   "metadata": {
    "collapsed": false
   },
   "outputs": [],
   "source": [
    "import numpy as np\n",
    "import matplotlib.pyplot as plt\n",
    "import matplotlib.image as mpimg\n",
    "import matplotlib.colors as colors\n",
    "from matplotlib.mlab import bivariate_normal\n",
    "\n",
    "def rgb2gray(rgb):\n",
    "    return np.dot(rgb[...,:3], [0.299, 0.587, 0.114])\n",
    "\n",
    "img = mpimg.imread('../resources/text.jpg') "
   ]
  },
  {
   "cell_type": "code",
   "execution_count": 43,
   "metadata": {
    "collapsed": false
   },
   "outputs": [],
   "source": [
    "class preprocessor:\n",
    "    def __init__(self):\n",
    "        self.img = 0\n",
    "    def vsegmentation(self, img):\n",
    "        vimg = 0\n",
    "        vimg = img\n",
    "        blackline = np.zeros(shape = (1,img.shape[1],3))\n",
    "        for i in range(img.shape[0]):\n",
    "            if np.mean(img[i]) < 254:\n",
    "                vimg[i] = blackline\n",
    "        boundaries = []\n",
    "        for i in range(img.shape[0]-1):\n",
    "            if vimg[i][vimg.shape[1]/2][0] <> vimg[i+1][vimg.shape[1]/2][0]:\n",
    "                boundaries.append(i)\n",
    "        return boundaries\n",
    "        #сегментировать по вертикали\n",
    "        "
   ]
  },
  {
   "cell_type": "code",
   "execution_count": 40,
   "metadata": {
    "collapsed": false
   },
   "outputs": [],
   "source": [
    "prep = preprocessor()"
   ]
  },
  {
   "cell_type": "code",
   "execution_count": 41,
   "metadata": {
    "collapsed": false
   },
   "outputs": [
    {
     "name": "stdout",
     "output_type": "stream",
     "text": [
      "[244, 286, 312, 347, 383, 384, 385, 389, 390, 391, 484, 519, 639, 682, 712, 756, 772, 816, 831, 832, 833, 876, 893, 937, 952, 998, 1013, 1057, 1073, 1118, 1134, 1178, 1193, 1238, 1254, 1298, 1314, 1322, 1323, 1324, 1325, 1351, 1415, 1460, 1461, 1462, 1463, 1488, 1533, 1543, 1544, 1545, 1547, 1593, 1594, 1595, 1596, 1597, 1598, 1609, 1653, 1669, 1713, 1729, 1773, 1791, 1831, 1891, 1927, 1964, 2008, 2024, 2068, 2095, 2128, 2144, 2183, 2186, 2188, 2204, 2249, 2265, 2309, 2325, 2369, 2386, 2420, 2427, 2429, 2487, 2523, 2560, 2603, 2622, 2625, 2631, 2655, 2682, 2685, 2691, 2719, 2722, 2724, 2752, 2775, 2812, 2838, 2860, 2904, 2962, 2998, 3035, 3079, 3115, 3160, 3180, 3220]\n"
     ]
    }
   ],
   "source": [
    "vseg = prep.vsegmentation(img)\n",
    "print vseg      "
   ]
  },
  {
   "cell_type": "code",
   "execution_count": null,
   "metadata": {
    "collapsed": true
   },
   "outputs": [],
   "source": []
  }
 ],
 "metadata": {
  "anaconda-cloud": {},
  "kernelspec": {
   "display_name": "Python [conda root]",
   "language": "python",
   "name": "conda-root-py"
  },
  "language_info": {
   "codemirror_mode": {
    "name": "ipython",
    "version": 2
   },
   "file_extension": ".py",
   "mimetype": "text/x-python",
   "name": "python",
   "nbconvert_exporter": "python",
   "pygments_lexer": "ipython2",
   "version": "2.7.12"
  }
 },
 "nbformat": 4,
 "nbformat_minor": 1
}
