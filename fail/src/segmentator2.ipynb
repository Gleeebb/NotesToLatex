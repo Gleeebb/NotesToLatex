{
 "cells": [
  {
   "cell_type": "code",
   "execution_count": 2,
   "metadata": {
    "collapsed": false
   },
   "outputs": [],
   "source": [
    "import numpy as np\n",
    "import os\n",
    "import matplotlib.image as mpimg\n",
    "import matplotlib.pyplot as plt\n",
    "import scipy.misc\n",
    "import cv2\n",
    "from skimage.measure import label\n",
    "import tensorflow as tf\n",
    "import random\n",
    "\n",
    "%matplotlib inline"
   ]
  },
  {
   "cell_type": "code",
   "execution_count": 3,
   "metadata": {
    "collapsed": false
   },
   "outputs": [],
   "source": [
    "class Segmentator():\n",
    "    def __init__(self):\n",
    "        self.lines = []\n",
    "        self.words = []\n",
    "        self.chars = []\n",
    "    def lines_seg(self,image):\n",
    "        image = 255 - image \n",
    "        lined = np.sum(image, 1)\n",
    "        threshold = 10\n",
    "        lines_ind = []\n",
    "        inertion = 0\n",
    "        cut = False\n",
    "        k1 = 0\n",
    "        k2 = 0\n",
    "        for i in range(lined.size):   \n",
    "            if (lined[i] > threshold)and(not(cut)):\n",
    "                k1 = i - 4\n",
    "                cut = True\n",
    "                inertion = 10    \n",
    "            if (lined[i] < threshold)and(cut)and(inertion == 0):\n",
    "                k2 = i + 4\n",
    "                cut = False\n",
    "                lines_ind.append((k1,k2))\n",
    "            inertion = max(0, inertion - 1)\n",
    "        return lines_ind\n",
    "\n",
    "\n",
    "\n",
    "    def words_seg(self,line):\n",
    "        line = 255 - line\n",
    "        size = line.shape[1]\n",
    "        words_ind = []\n",
    "        words_hist = np.sum(line, 0)\n",
    "        threshold = 0\n",
    "        inertion = 0\n",
    "        cut = False\n",
    "        k1 = 0\n",
    "        k2 = 0\n",
    "        for i in range(words_hist.size):\n",
    "            place = words_hist[i]\n",
    "            for k in range(1):\n",
    "                place += words_hist[(i+k)%size]\n",
    "            if (place > threshold)and(not(cut)):\n",
    "                k1 = i\n",
    "                cut = True  \n",
    "            if (place <= threshold)and(cut):\n",
    "                k2 = i\n",
    "                cut = False\n",
    "                if (k2 - k1 > 5):\n",
    "                    words_ind.append((k1,k2))\n",
    "        return words_ind\n",
    "\n",
    "    def check_common(self,x,y):\n",
    "        filt1 = np.sum(x,0) > 0\n",
    "        filt2 = np.sum(y,0) > 0\n",
    "        if np.sum(filt1*filt2) > 1:\n",
    "            return True\n",
    "        else:\n",
    "            return False\n",
    "\n",
    "    def chars_seg(self,word):\n",
    "        word = 255 - word\n",
    "        skip = False\n",
    "        labeled_word = label(word)\n",
    "        labels = list(set(labeled_word.flatten()))\n",
    "        labels.remove(0)\n",
    "        if len(labels) == 1:\n",
    "            return word\n",
    "        chars_temp = []\n",
    "        chars = []\n",
    "        overflow = 0\n",
    "        filters = []\n",
    "        for i in range(len(labels)):\n",
    "            chars_temp.append(np.zeros(shape=word.shape))\n",
    "            filtering = labeled_word ==labels[i]\n",
    "            chars_temp[i] = 255*filtering\n",
    "        i = 0\n",
    "        steps = len(labels) \n",
    "        while i < steps:\n",
    "            j = i+1\n",
    "            skip = False\n",
    "            while (j < steps)and(not(skip)):\n",
    "                if self.check_common(chars_temp[i], chars_temp[j]):\n",
    "                    filters.append((chars_temp[i] ==255) + (chars_temp[j] ==255))\n",
    "                    steps = steps - 1\n",
    "                    labels.pop(j)\n",
    "                    skip = True\n",
    "                    i += 1\n",
    "                j += 1\n",
    "            if not(skip):\n",
    "                filters.append((labeled_word ==labels[i]))\n",
    "                i += 1\n",
    "        for i in range(len(filters)):\n",
    "            temp = filters[i]*255\n",
    "            temp = self.crop_char(temp)\n",
    "            temp = self.expand_char(temp,30)\n",
    "            chars.append(temp)\n",
    "        return chars\n",
    "    \n",
    "    def expand_char(self,char,size):\n",
    "        arr = np.zeros(shape = (size,size))\n",
    "        arr = 255 - arr\n",
    "        char_sized = char[:size,:size]\n",
    "        height = char.shape[0]\n",
    "        width= char.shape[1]\n",
    "        for i in range(size):\n",
    "            if i < height:\n",
    "                for j in range(size):\n",
    "                    if j < width:\n",
    "                        arr[i][j+6] = char[i][j]\n",
    "        return arr\n",
    "\n",
    "    def crop_char(self,char):\n",
    "        left = 0\n",
    "        size = 30\n",
    "        right = char.shape[1] - 1\n",
    "        bottom = char.shape[0] - 1\n",
    "        top = 0\n",
    "        stop = False\n",
    "        ver = np.sum(char, 1)\n",
    "        hor = np.sum(char, 0)\n",
    "        for i in range(char.shape[0]):\n",
    "            if (ver[i] <> 0)and(not(stop)):\n",
    "                stop = True\n",
    "                top = i\n",
    "            if (ver[i] == 0)and(stop)and(i > size/2):\n",
    "                bottom = i\n",
    "                stop = False\n",
    "        for i in range(char.shape[1]):\n",
    "            if (hor[i] <> 0)and(not(stop)):\n",
    "                stop = True\n",
    "                left = i\n",
    "            if (hor[i] == 0) and(stop):\n",
    "                right = i\n",
    "                stop = False \n",
    "        return self.expand_char(char[top:bottom,left:right],size)\n",
    "    \n",
    "    def segment(self,image_path):\n",
    "        chars = []\n",
    "        l = 0\n",
    "        image = cv2.imread(image_path, 0)\n",
    "        ret, image = cv2.threshold(image, 0, 255, cv2.THRESH_BINARY+cv2.THRESH_OTSU)\n",
    "        lines_ind = self.lines_seg(image)\n",
    "        for i in range(len(lines_ind)):\n",
    "            line = image[lines_ind[i][0]:lines_ind[i][1]]\n",
    "            self.lines.append(line)\n",
    "            chars.append(list())\n",
    "            words_ind = self.words_seg(line)\n",
    "            for j in range(len(words_ind)):\n",
    "                chars[i].append(list())\n",
    "                word = line[:,words_ind[j][0]:words_ind[j][1]]\n",
    "                chars[i][j].append(self.expand_char(word,30))\n",
    "                self.chars.append(self.expand_char(word,30))\n",
    "        return chars\n",
    "    "
   ]
  },
  {
   "cell_type": "code",
   "execution_count": 4,
   "metadata": {
    "collapsed": false
   },
   "outputs": [],
   "source": [
    "segg = Segmentator()\n",
    "pa = '../resources/lete.jpg'\n",
    "char = segg.segment(pa)\n"
   ]
  },
  {
   "cell_type": "code",
   "execution_count": 5,
   "metadata": {
    "collapsed": false
   },
   "outputs": [],
   "source": [
    "class Batch_generator:\n",
    "    def __init__(self, chars):\n",
    "        self.chars = chars\n",
    "        self.cursor = 0\n",
    "        self.spaces =[]\n",
    "        self.nline = 0\n",
    "        self.charlist = segg.chars\n",
    "        space = 0\n",
    "        for i in range(len(self.chars)):\n",
    "            for j in range(len(self.chars[i])):\n",
    "                for k in range(len(self.chars[i][j])):\n",
    "                    space +=1\n",
    "                self.spaces.append(space)\n",
    "                \n",
    "    def generate_train_batch(self):\n",
    "        \n",
    "        labels = []\n",
    "        train_chars = []\n",
    "        for i in range(32):\n",
    "            k = random.randint(0,voc_size-1)\n",
    "            label = np.zeros(shape=(1,68))\n",
    "            label[0,k] = 1.0\n",
    "            labels.append(label)\n",
    "            train_char = cv2.imread('../resources/dataset/' + str(k) +'/'+str(k)+'_0.png',0)\n",
    "            train_chars.append(np.reshape(train_char, (1,900)))\n",
    "        return train_chars, labels\n",
    "        \n",
    "        \n",
    "        \n",
    "    def generate_sample_batch(self):\n",
    "        voc_size = len(letters)\n",
    "        batch = np.reshape(self.charlist[self.cursor%len(self.charlist)], (1,900))\n",
    "        self.cursor = (self.cursor + 1)%len(self.charlist)\n",
    "        return 255 - batch\n",
    "    \n",
    "bagen = Batch_generator(char)"
   ]
  },
  {
   "cell_type": "code",
   "execution_count": 6,
   "metadata": {
    "collapsed": false
   },
   "outputs": [],
   "source": [
    "letters = '`bdfhijkIABCDEFGHIJKLMNOPQRSTUVWXYZ1234567890)(taceglnopqrsuvwxyz-,.'\n",
    "voc_size = len(letters)\n",
    "size = 30"
   ]
  },
  {
   "cell_type": "code",
   "execution_count": 7,
   "metadata": {
    "collapsed": false
   },
   "outputs": [],
   "source": [
    "voc_size = len(letters)\n",
    "graph = tf.Graph()\n",
    "with graph.as_default():\n",
    "    W = tf.Variable(tf.truncated_normal([size**2,voc_size], -0.1, 0.1))\n",
    "    b = tf.Variable(tf.zeros([voc_size]))\n",
    "    train_inputs = []\n",
    "    train_labels = []\n",
    "    for i in range(32):\n",
    "        train_inputs.append(tf.placeholder(tf.float32, shape=[1,size**2]))\n",
    "        train_labels.append(tf.placeholder(tf.float32, shape=[1,voc_size]))\n",
    "    \n",
    "    logits = tf.nn.xw_plus_b(tf.concat(train_inputs,0), W, b)\n",
    "    loss = tf.reduce_mean(\n",
    "                tf.nn.softmax_cross_entropy_with_logits(\n",
    "                    logits=logits, labels=tf.concat(train_labels,0)))\n",
    "    global_step = tf.Variable(0)\n",
    "    learning_rate = tf.train.exponential_decay(\n",
    "        0.1, global_step, 500, 0.65, staircase=False)\n",
    "    optimizer = tf.train.GradientDescentOptimizer(learning_rate)\n",
    "    gradients, v = zip(*optimizer.compute_gradients(loss))\n",
    "    gradients, _ = tf.clip_by_global_norm(gradients, 5)\n",
    "    optimizer = optimizer.apply_gradients(\n",
    "        zip(gradients, v), global_step=global_step)\n",
    "\n",
    "    # Predictions.\n",
    "    train_prediction = tf.nn.softmax(logits)\n",
    "    \n",
    "    sample_input = tf.placeholder(tf.float32, shape=[1,size**2])\n",
    "    sample_prediction = tf.nn.softmax(tf.nn.xw_plus_b(sample_input,W,b))"
   ]
  },
  {
   "cell_type": "code",
   "execution_count": 12,
   "metadata": {
    "collapsed": false,
    "scrolled": true
   },
   "outputs": [
    {
     "name": "stdout",
     "output_type": "stream",
     "text": [
      "Initialized\n",
      "Average loss at step 0: 406.593994\n",
      "Average loss at step 500: 13.206969\n",
      "Average loss at step 1000: 4.527713\n",
      "Average loss at step 1500: 2.358395\n",
      "Average loss at step 2000: 1.766281\n",
      "Average loss at step 2500: 0.980532\n",
      "5B0KrkKDpOpy(UV\n"
     ]
    }
   ],
   "source": [
    "num_steps = 3000\n",
    "summary_frequency = 500\n",
    "with tf.Session(graph=graph) as session:\n",
    "    tf.global_variables_initializer().run()\n",
    "    print('Initialized')\n",
    "    mean_loss = 0\n",
    "    for step in range(num_steps):\n",
    "        batch, labels = bagen.generate_train_batch()\n",
    "        feed_dict = dict()\n",
    "        for i in range(32):\n",
    "            \n",
    "            feed_dict[train_inputs[i]] = batch[i]\n",
    "            feed_dict[train_labels[i]] = labels[i]\n",
    "        _, l, predictions, lr = session.run(\n",
    "            [optimizer, loss, train_prediction, learning_rate], feed_dict=feed_dict)\n",
    "        mean_loss += l\n",
    "        if step % summary_frequency == 0:\n",
    "            if step > 0:\n",
    "                mean_loss = mean_loss / summary_frequency\n",
    "            print('Average loss at step %d: %f' % (step, mean_loss)) \n",
    "        if (step == 2800):\n",
    "            text = ''\n",
    "            ka = []\n",
    "            for i in range(15):\n",
    "                sample_feed_dict = dict()\n",
    "                ka.append(bagen.generate_sample_batch())\n",
    "                sample_feed_dict[sample_input] = ka[i]\n",
    "                prediction = sample_prediction.eval(feed_dict=sample_feed_dict)\n",
    "                text += letters[np.argmax(prediction)]\n",
    "            print(text)\n",
    "  \n",
    "        "
   ]
  },
  {
   "cell_type": "code",
   "execution_count": 21,
   "metadata": {
    "collapsed": false
   },
   "outputs": [
    {
     "data": {
      "text/plain": [
       "<matplotlib.image.AxesImage at 0x7f5f84dab590>"
      ]
     },
     "execution_count": 21,
     "metadata": {},
     "output_type": "execute_result"
    },
    {
     "data": {
      "image/png": "[encoded data removed]",
      "text/plain": [
       "<matplotlib.figure.Figure at 0x7f5f7c3f6c90>"
      ]
     },
     "metadata": {},
     "output_type": "display_data"
    }
   ],
   "source": [
    "plt.imshow(np.reshape(ka[0], (30,30)))"
   ]
  },
  {
   "cell_type": "code",
   "execution_count": 26,
   "metadata": {
    "collapsed": false
   },
   "outputs": [
    {
     "data": {
      "text/plain": [
       "'V'"
      ]
     },
     "execution_count": 26,
     "metadata": {},
     "output_type": "execute_result"
    }
   ],
   "source": [
    "letters[np.argmax(prediction)]"
   ]
  },
  {
   "cell_type": "code",
   "execution_count": null,
   "metadata": {
    "collapsed": true
   },
   "outputs": [],
   "source": []
  }
 ],
 "metadata": {
  "anaconda-cloud": {},
  "kernelspec": {
   "display_name": "Python [default]",
   "language": "python",
   "name": "python2"
  },
  "language_info": {
   "codemirror_mode": {
    "name": "ipython",
    "version": 2
   },
   "file_extension": ".py",
   "mimetype": "text/x-python",
   "name": "python",
   "nbconvert_exporter": "python",
   "pygments_lexer": "ipython2",
   "version": "2.7.12"
  }
 },
 "nbformat": 4,
 "nbformat_minor": 1
}
