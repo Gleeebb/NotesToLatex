{
 "cells": [
  {
   "cell_type": "code",
   "execution_count": 1,
   "metadata": {
    "collapsed": true
   },
   "outputs": [],
   "source": [
    "import numpy as np\n",
    "import os\n",
    "import matplotlib.image as mpimg\n",
    "import matplotlib.pyplot as plt\n",
    "import scipy.misc\n",
    "import cv2\n",
    "from skimage.measure import label\n",
    "\n",
    "%matplotlib inline"
   ]
  },
  {
   "cell_type": "code",
   "execution_count": 2,
   "metadata": {
    "collapsed": false
   },
   "outputs": [],
   "source": [
    "letters = '`bdfhijkIABCDEFGHIJKLMNOPQRSTUVWXYZ1234567890)(taceglnopqrsuvwxyz-,.'"
   ]
  },
  {
   "cell_type": "code",
   "execution_count": 3,
   "metadata": {
    "collapsed": false
   },
   "outputs": [],
   "source": [
    "def lines_seg(image):\n",
    "    image = 255 - image \n",
    "    lined = np.sum(image, 1)\n",
    "    threshold = 10\n",
    "    lines_ind = []\n",
    "    inertion = 0\n",
    "    cut = False\n",
    "    k1 = 0\n",
    "    k2 = 0\n",
    "    for i in range(lined.size):   \n",
    "        if (lined[i] > threshold)and(not(cut)):\n",
    "            k1 = i - 4\n",
    "            cut = True\n",
    "            inertion = 10    \n",
    "        if (lined[i] < threshold)and(cut)and(inertion == 0):\n",
    "            k2 = i + 4\n",
    "            cut = False\n",
    "            lines_ind.append((k1,k2))\n",
    "        inertion = max(0, inertion - 1)\n",
    "    return lines_ind\n",
    "\n",
    "\n",
    "\n",
    "def words_seg(line):\n",
    "    line = 255 - line\n",
    "    size = line.shape[1]\n",
    "    words_ind = []\n",
    "    words_hist = np.sum(line, 0)\n",
    "    threshold = 0\n",
    "    inertion = 0\n",
    "    cut = False\n",
    "    k1 = 0\n",
    "    k2 = 0\n",
    "    for i in range(words_hist.size):\n",
    "        place = words_hist[i]\n",
    "        for k in range(5):\n",
    "            place += words_hist[(i+k)%size]\n",
    "        if (place > threshold)and(not(cut)):\n",
    "            k1 = i\n",
    "            cut = True  \n",
    "        if (place <= threshold)and(cut):\n",
    "            k2 = i\n",
    "            cut = False\n",
    "            if (k2 - k1 > 5):\n",
    "                words_ind.append((k1,k2))\n",
    "    return words_ind\n",
    "\n",
    "def check_common(x,y):\n",
    "    filt1 = np.sum(x,0) > 0\n",
    "    filt2 = np.sum(y,0) > 0\n",
    "    if np.sum(filt1*filt2) > 1:\n",
    "        return True\n",
    "    else:\n",
    "        return False\n",
    "\n",
    "def chars_seg(word):\n",
    "    word = 255 - word\n",
    "    skip = False\n",
    "    labeled_word = label(word)\n",
    "    labels = list(set(labeled_word.flatten()))\n",
    "    labels.remove(0)\n",
    "    if len(labels) == 1:\n",
    "        return word\n",
    "    chars_temp = []\n",
    "    chars = []\n",
    "    overflow = 0\n",
    "    filters = []\n",
    "    for i in range(len(labels)):\n",
    "        chars_temp.append(np.zeros(shape=word.shape))\n",
    "        filtering = labeled_word ==labels[i]\n",
    "        chars_temp[i] = 255*filtering\n",
    "    i = 0\n",
    "    steps = len(labels) \n",
    "    while i < steps:\n",
    "        j = i+1\n",
    "        skip = False\n",
    "        while (j < steps)and(not(skip)):\n",
    "            if check_common(chars_temp[i], chars_temp[j]):\n",
    "                filters.append((chars_temp[i] ==255) + (chars_temp[j] ==255))\n",
    "                steps = steps - 1\n",
    "                labels.pop(j)\n",
    "                skip = True\n",
    "                i += 1\n",
    "            j += 1\n",
    "        if not(skip):\n",
    "            filters.append((labeled_word ==labels[i]))\n",
    "            i += 1\n",
    "    for i in range(len(filters)):\n",
    "        chars.append(filters[i]*255)\n",
    "        chars[i] = crop_char(chars[i])\n",
    "    return chars\n",
    "def expand_char(char,size):\n",
    "    arr = np.zeros(shape = (size,size))\n",
    "    height=char.shape[0] \n",
    "    width=char.shape[1] \n",
    "    offsety = (size - height)/2\n",
    "    offsetx = (size - width)/2\n",
    "    for i in range(offsety,height+offsety):\n",
    "        for j in range(offsetx,width+offsetx):\n",
    "            arr[i][j] = char[i-offsety][j-offsetx]\n",
    "    return arr\n",
    "\n",
    "def crop_char(char):\n",
    "    left = 0\n",
    "    size = 30\n",
    "    right = char.shape[1] - 1\n",
    "    bottom = char.shape[0] - 1\n",
    "    top = 0\n",
    "    stop = False\n",
    "    ver = np.sum(char, 1)\n",
    "    hor = np.sum(char, 0)\n",
    "    for i in range(char.shape[0]):\n",
    "        if (ver[i] <> 0)and(not(stop)):\n",
    "            stop = True\n",
    "            top = i\n",
    "        if (ver[i] == 0)and(stop)and(i > size/2):\n",
    "            bottom = i\n",
    "            stop = False\n",
    "    for i in range(char.shape[1]):\n",
    "        if (hor[i] <> 0)and(not(stop)):\n",
    "            stop = True\n",
    "            left = i\n",
    "        if (hor[i] == 0) and(stop):\n",
    "            right = i\n",
    "            stop = False \n",
    "    return expand_char(char[top:bottom,left:right],size)\n",
    "    "
   ]
  },
  {
   "cell_type": "code",
   "execution_count": 5,
   "metadata": {
    "collapsed": false
   },
   "outputs": [],
   "source": [
    "image = cv2.imread('../resources/lete.jpg', 0)"
   ]
  },
  {
   "cell_type": "code",
   "execution_count": 6,
   "metadata": {
    "collapsed": false
   },
   "outputs": [],
   "source": [
    "ret, image = cv2.threshold(image, 0, 255, cv2.THRESH_BINARY+cv2.THRESH_OTSU)\n",
    "lines_ind = lines_seg(image)\n",
    "words = []\n",
    "for i in range(len(lines_ind)):\n",
    "    words.append(image[lines_ind[i][0]:lines_ind[i][1]])"
   ]
  },
  {
   "cell_type": "code",
   "execution_count": 7,
   "metadata": {
    "collapsed": false
   },
   "outputs": [],
   "source": [
    "line = image[lines_ind[0][0]:lines_ind[0][1]]"
   ]
  },
  {
   "cell_type": "code",
   "execution_count": 8,
   "metadata": {
    "collapsed": false
   },
   "outputs": [],
   "source": [
    "plt.imsave('./sd.png',line)"
   ]
  },
  {
   "cell_type": "code",
   "execution_count": 9,
   "metadata": {
    "collapsed": false
   },
   "outputs": [],
   "source": [
    "ch = chars_seg(line)\n",
    "chars = "
   ]
  },
  {
   "cell_type": "code",
   "execution_count": 10,
   "metadata": {
    "collapsed": false
   },
   "outputs": [
    {
     "ename": "OSError",
     "evalue": "[Errno 17] File exists: '../resources/dataset/0/'",
     "output_type": "error",
     "traceback": [
      "\u001b[0;31m---------------------------------------------------------------------------\u001b[0m",
      "\u001b[0;31mOSError\u001b[0m                                   Traceback (most recent call last)",
      "\u001b[0;32m<ipython-input-10-188d95aa1421>\u001b[0m in \u001b[0;36m<module>\u001b[0;34m()\u001b[0m\n\u001b[1;32m      1\u001b[0m \u001b[0;32mfor\u001b[0m \u001b[0mi\u001b[0m \u001b[0;32min\u001b[0m \u001b[0mrange\u001b[0m\u001b[0;34m(\u001b[0m\u001b[0mlen\u001b[0m\u001b[0;34m(\u001b[0m\u001b[0mch\u001b[0m\u001b[0;34m)\u001b[0m\u001b[0;34m)\u001b[0m\u001b[0;34m:\u001b[0m\u001b[0;34m\u001b[0m\u001b[0m\n\u001b[0;32m----> 2\u001b[0;31m     \u001b[0mos\u001b[0m\u001b[0;34m.\u001b[0m\u001b[0mmakedirs\u001b[0m\u001b[0;34m(\u001b[0m\u001b[0;34m'../resources/dataset/'\u001b[0m\u001b[0;34m+\u001b[0m \u001b[0mstr\u001b[0m\u001b[0;34m(\u001b[0m\u001b[0mi\u001b[0m\u001b[0;34m)\u001b[0m \u001b[0;34m+\u001b[0m\u001b[0;34m'/'\u001b[0m\u001b[0;34m)\u001b[0m\u001b[0;34m\u001b[0m\u001b[0m\n\u001b[0m\u001b[1;32m      3\u001b[0m     \u001b[0;32mfor\u001b[0m \u001b[0mj\u001b[0m \u001b[0;32min\u001b[0m \u001b[0mrange\u001b[0m\u001b[0;34m(\u001b[0m\u001b[0;36m100\u001b[0m\u001b[0;34m)\u001b[0m\u001b[0;34m:\u001b[0m\u001b[0;34m\u001b[0m\u001b[0m\n\u001b[1;32m      4\u001b[0m         \u001b[0mcv2\u001b[0m\u001b[0;34m.\u001b[0m\u001b[0mimwrite\u001b[0m\u001b[0;34m(\u001b[0m\u001b[0;34m'../resources/dataset/'\u001b[0m\u001b[0;34m+\u001b[0m\u001b[0mstr\u001b[0m\u001b[0;34m(\u001b[0m\u001b[0mi\u001b[0m\u001b[0;34m)\u001b[0m\u001b[0;34m+\u001b[0m\u001b[0;34m'/'\u001b[0m\u001b[0;34m+\u001b[0m\u001b[0mstr\u001b[0m\u001b[0;34m(\u001b[0m\u001b[0mi\u001b[0m\u001b[0;34m)\u001b[0m\u001b[0;34m+\u001b[0m\u001b[0;34m'_'\u001b[0m\u001b[0;34m+\u001b[0m\u001b[0mstr\u001b[0m\u001b[0;34m(\u001b[0m\u001b[0mj\u001b[0m\u001b[0;34m)\u001b[0m\u001b[0;34m+\u001b[0m\u001b[0;34m'.png'\u001b[0m\u001b[0;34m,\u001b[0m \u001b[0mch\u001b[0m\u001b[0;34m[\u001b[0m\u001b[0mi\u001b[0m\u001b[0;34m]\u001b[0m\u001b[0;34m)\u001b[0m\u001b[0;34m\u001b[0m\u001b[0m\n",
      "\u001b[0;32m/home/tamaz/anaconda2/lib/python2.7/os.pyc\u001b[0m in \u001b[0;36mmakedirs\u001b[0;34m(name, mode)\u001b[0m\n\u001b[1;32m    155\u001b[0m         \u001b[0;32mif\u001b[0m \u001b[0mtail\u001b[0m \u001b[0;34m==\u001b[0m \u001b[0mcurdir\u001b[0m\u001b[0;34m:\u001b[0m           \u001b[0;31m# xxx/newdir/. exists if xxx/newdir exists\u001b[0m\u001b[0;34m\u001b[0m\u001b[0m\n\u001b[1;32m    156\u001b[0m             \u001b[0;32mreturn\u001b[0m\u001b[0;34m\u001b[0m\u001b[0m\n\u001b[0;32m--> 157\u001b[0;31m     \u001b[0mmkdir\u001b[0m\u001b[0;34m(\u001b[0m\u001b[0mname\u001b[0m\u001b[0;34m,\u001b[0m \u001b[0mmode\u001b[0m\u001b[0;34m)\u001b[0m\u001b[0;34m\u001b[0m\u001b[0m\n\u001b[0m\u001b[1;32m    158\u001b[0m \u001b[0;34m\u001b[0m\u001b[0m\n\u001b[1;32m    159\u001b[0m \u001b[0;32mdef\u001b[0m \u001b[0mremovedirs\u001b[0m\u001b[0;34m(\u001b[0m\u001b[0mname\u001b[0m\u001b[0;34m)\u001b[0m\u001b[0;34m:\u001b[0m\u001b[0;34m\u001b[0m\u001b[0m\n",
      "\u001b[0;31mOSError\u001b[0m: [Errno 17] File exists: '../resources/dataset/0/'"
     ]
    }
   ],
   "source": [
    "for i in range(len(ch)):\n",
    "    os.makedirs('../resources/dataset/'+ str(i) +'/')\n",
    "    for j in range(100):\n",
    "        cv2.imwrite('../src/' + ch[i].png', ch[i])"
   ]
  },
  {
   "cell_type": "code",
   "execution_count": 12,
   "metadata": {
    "collapsed": false
   },
   "outputs": [
    {
     "data": {
      "text/plain": [
       "<matplotlib.image.AxesImage at 0x7fb0d55d8210>"
      ]
     },
     "execution_count": 12,
     "metadata": {},
     "output_type": "execute_result"
    },
    {
     "data": {
      "image/png": "[encoded data removed]",
      "text/plain": [
       "<matplotlib.figure.Figure at 0x7fb0d5630210>"
      ]
     },
     "metadata": {},
     "output_type": "display_data"
    }
   ],
   "source": [
    "plt.imshow(ch[1])"
   ]
  },
  {
   "cell_type": "code",
   "execution_count": null,
   "metadata": {
    "collapsed": true
   },
   "outputs": [],
   "source": []
  }
 ],
 "metadata": {
  "anaconda-cloud": {},
  "kernelspec": {
   "display_name": "Python [default]",
   "language": "python",
   "name": "python2"
  },
  "language_info": {
   "codemirror_mode": {
    "name": "ipython",
    "version": 2
   },
   "file_extension": ".py",
   "mimetype": "text/x-python",
   "name": "python",
   "nbconvert_exporter": "python",
   "pygments_lexer": "ipython2",
   "version": "2.7.12"
  }
 },
 "nbformat": 4,
 "nbformat_minor": 1
}
